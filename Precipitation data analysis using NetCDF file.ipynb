{
 "cells": [
  {
   "cell_type": "code",
   "execution_count": 1,
   "id": "4941144e",
   "metadata": {},
   "outputs": [],
   "source": [
    "from netCDF4 import Dataset\n",
    "import numpy as np\n",
    "import pandas as pd\n",
    "import matplotlib.pyplot as plt\n",
    "from mpl_toolkits.basemap import Basemap\n",
    "import PIL"
   ]
  },
  {
   "cell_type": "code",
   "execution_count": 2,
   "id": "61035ad2",
   "metadata": {},
   "outputs": [],
   "source": [
    "data=Dataset(r'C:\\Users\\gahat\\Desktop\\Python Geopnadas\\Netcdf file with python\\NetCDF file precipitation\\2015.nc','r')"
   ]
  },
  {
   "cell_type": "code",
   "execution_count": 3,
   "id": "59fd0e75",
   "metadata": {},
   "outputs": [
    {
     "data": {
      "text/plain": [
       "dict_keys(['lon', 'lat', 'time', 'precip', 'rstn'])"
      ]
     },
     "execution_count": 3,
     "metadata": {},
     "output_type": "execute_result"
    }
   ],
   "source": [
    "data.variables.keys()"
   ]
  },
  {
   "cell_type": "code",
   "execution_count": 4,
   "id": "4b17f257",
   "metadata": {},
   "outputs": [],
   "source": [
    "lats = data.variables['lat'][:]\n",
    "lons = data.variables['lon'][:]\n",
    "time = data.variables['time'][:]\n",
    "precip = data.variables['precip'][:]"
   ]
  },
  {
   "cell_type": "code",
   "execution_count": 5,
   "id": "7df33b19",
   "metadata": {},
   "outputs": [],
   "source": [
    "mp = Basemap(projection = 'merc', \n",
    "             llcrnrlon = 42.8,\n",
    "             llcrnrlat = -2,\n",
    "             urcrnrlon = 105.37,\n",
    "             urcrnrlat = 38.78, \n",
    "             resolution = 'i')"
   ]
  },
  {
   "cell_type": "code",
   "execution_count": 6,
   "id": "6f0f495a",
   "metadata": {},
   "outputs": [],
   "source": [
    "lon, lat = np.meshgrid(lons, lats)\n",
    "x,y = mp(lon, lat)"
   ]
  },
  {
   "cell_type": "code",
   "execution_count": 1,
   "id": "020ed0ce",
   "metadata": {},
   "outputs": [],
   "source": [
    "# days =np.arange(180,211)\n",
    "# days"
   ]
  },
  {
   "cell_type": "code",
   "execution_count": 8,
   "id": "c76c04aa",
   "metadata": {},
   "outputs": [
    {
     "data": {
      "text/plain": [
       "array([ 1,  2,  3,  4,  5,  6,  7,  8,  9, 10, 11, 12, 13, 14, 15, 16, 17,\n",
       "       18, 19, 20, 21, 22, 23, 24, 25, 26, 27, 28, 29, 30, 31])"
      ]
     },
     "execution_count": 8,
     "metadata": {},
     "output_type": "execute_result"
    }
   ],
   "source": [
    "dayz=np.arange(1,32)\n",
    "dayz"
   ]
  },
  {
   "cell_type": "code",
   "execution_count": 9,
   "id": "b4a1eada",
   "metadata": {},
   "outputs": [],
   "source": [
    "# for i in days:\n",
    "#     c_scheme = mp.pcolor(x, y, np.squeeze(precip[i,:,:]), cmap = 'jet')\n",
    "#     mp.drawcoastlines()\n",
    "#     mp.drawstates()\n",
    "#     mp.drawcountries()\n",
    "#     day=i+1\n",
    "#     cbar = mp.colorbar(c_scheme, location = 'right', pad = '10%')\n",
    "#     plt.title('Average Precipitation of year 2015 July')\n",
    "#     plt.clim(-40,40)\n",
    "#     plt.clf\n",
    "#     plt.savefig(r'C:\\Users\\gahat\\Desktop\\Python Geopnadas\\Netcdf file with python\\NetCDF file precipitation\\rain_maps'+'\\\\'+ str(day)+'.jpg')\n"
   ]
  },
  {
   "cell_type": "code",
   "execution_count": 10,
   "id": "7437ee16",
   "metadata": {},
   "outputs": [],
   "source": [
    "map_frames=[]"
   ]
  },
  {
   "cell_type": "code",
   "execution_count": 12,
   "id": "d295931e",
   "metadata": {},
   "outputs": [],
   "source": [
    "day=np.arange(181,212)\n",
    "for k in day:\n",
    "    new_frames=PIL.Image.open(r'rain_maps' + '\\\\'+str(k)+ '.jpg')\n",
    "    map_frames.append(new_frames)"
   ]
  },
  {
   "cell_type": "code",
   "execution_count": 14,
   "id": "21b99bc0",
   "metadata": {},
   "outputs": [],
   "source": [
    "map_frames[0].save('precipitation_timelapse2.gif', format = 'GIF', \n",
    "            append_images = map_frames[1: ], \n",
    "            save_all = True, duration = 300, \n",
    "            loop = 1)"
   ]
  },
  {
   "cell_type": "code",
   "execution_count": null,
   "id": "c2796caa",
   "metadata": {},
   "outputs": [],
   "source": []
  }
 ],
 "metadata": {
  "kernelspec": {
   "display_name": "Python 3 (ipykernel)",
   "language": "python",
   "name": "python3"
  },
  "language_info": {
   "codemirror_mode": {
    "name": "ipython",
    "version": 3
   },
   "file_extension": ".py",
   "mimetype": "text/x-python",
   "name": "python",
   "nbconvert_exporter": "python",
   "pygments_lexer": "ipython3",
   "version": "3.10.4"
  }
 },
 "nbformat": 4,
 "nbformat_minor": 5
}
